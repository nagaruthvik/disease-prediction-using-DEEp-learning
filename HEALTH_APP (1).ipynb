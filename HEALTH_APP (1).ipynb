{
  "nbformat": 4,
  "nbformat_minor": 0,
  "metadata": {
    "colab": {
      "provenance": []
    },
    "kernelspec": {
      "name": "python3",
      "display_name": "Python 3"
    },
    "language_info": {
      "name": "python"
    }
  },
  "cells": [
    {
      "cell_type": "code",
      "execution_count": null,
      "metadata": {
        "colab": {
          "base_uri": "https://localhost:8080/"
        },
        "id": "oUCeC6DmwThn",
        "outputId": "8281b513-a2bb-4d24-a136-94d776a10ce4"
      },
      "outputs": [
        {
          "output_type": "stream",
          "name": "stdout",
          "text": [
            "{'itching': 'Itching', 'skin_rash': 'Skin rash', 'nodal_skin_eruptions': 'Bumps on skin', 'continuous_sneezing': 'Continuous sneezing', 'shivering': 'Shivering', 'chills': 'Chills', 'joint_pain': 'Joint pain', 'stomach_pain': 'Stomach pain', 'acidity': 'Acidity', 'ulcers_on_tongue': 'Ulcers on tongue', 'muscle_wasting': 'Muscle wasting', 'vomiting': 'Vomiting', 'burning_micturition': 'Painful urination', 'spotting_urination': 'Spotting during urination', 'fatigue': 'Fatigue', 'weight_gain': 'Weight gain', 'anxiety': 'Anxiety', 'cold_hands_and_feets': 'Cold hands and feet', 'mood_swings': 'Mood swings', 'weight_loss': 'Weight loss', 'restlessness': 'Restlessness', 'lethargy': 'Lethargy', 'patches_in_throat': 'Patches in throat', 'irregular_sugar_level': 'Irregular sugar level', 'cough': 'Cough', 'high_fever': 'High fever', 'sunken_eyes': 'Sunken eyes', 'breathlessness': 'Breathlessness', 'sweating': 'Sweating', 'dehydration': 'Dehydration', 'indigestion': 'Indigestion', 'headache': 'Headache', 'yellowish_skin': 'Yellowish skin', 'dark_urine': 'Dark urine', 'nausea': 'Nausea', 'loss_of_appetite': 'Loss of appetite', 'pain_behind_the_eyes': 'Pain behind the eyes', 'back_pain': 'Back pain', 'constipation': 'Constipation', 'abdominal_pain': 'Abdominal pain', 'diarrhoea': 'Diarrhoea', 'mild_fever': 'Mild fever', 'yellow_urine': 'Yellow urine', 'yellowing_of_eyes': 'Yellowing of eyes', 'acute_liver_failure': 'Sudden liver failure', 'fluid_overload': 'Fluid overload', 'swelling_of_stomach': 'Swelling of stomach', 'swelled_lymph_nodes': 'Swollen lymph nodes', 'malaise': 'Malaise', 'blurred_and_distorted_vision': 'Blurred and distorted vision', 'phlegm': 'Phlegm', 'throat_irritation': 'Throat irritation', 'redness_of_eyes': 'Redness of eyes', 'sinus_pressure': 'Sinus pressure', 'runny_nose': 'Runny nose', 'congestion': 'Congestion', 'chest_pain': 'Chest pain', 'weakness_in_limbs': 'Weakness in limbs', 'fast_heart_rate': 'Fast heart rate', 'pain_during_bowel_movements': 'Pain during bowel movements', 'pain_in_anal_region': 'Pain in anal region', 'bloody_stool': 'Bloody stool', 'irritation_in_anus': 'Irritation in anus', 'neck_pain': 'Neck pain', 'dizziness': 'Dizziness', 'cramps': 'Cramps', 'bruising': 'Bruising', 'obesity': 'Obesity', 'swollen_legs': 'Swollen legs', 'swollen_blood_vessels': 'Swollen blood vessels', 'puffy_face_and_eyes': 'Puffy face and eyes', 'enlarged_thyroid': 'Enlarged thyroid', 'brittle_nails': 'Brittle nails', 'swollen_extremeties': 'Swollen extremities', 'excessive_hunger': 'Excessive hunger', 'extra_marital_contacts': 'Extra-marital contacts', 'drying_and_tingling_lips': 'Drying and tingling lips', 'slurred_speech': 'Slurred speech', 'knee_pain': 'Knee pain', 'hip_joint_pain': 'Hip joint pain', 'muscle_weakness': 'Muscle weakness', 'stiff_neck': 'Stiff neck', 'swelling_joints': 'Swelling joints', 'movement_stiffness': 'Movement stiffness', 'spinning_movements': 'Spinning movements', 'loss_of_balance': 'Loss of balance', 'unsteadiness': 'Unsteadiness', 'weakness_of_one_body_side': 'Weakness of one body side', 'loss_of_smell': 'Loss of smell', 'bladder_discomfort': 'Bladder discomfort', 'foul_smell_of_urine': 'Foul smell of urine', 'continuous_feel_of_urine': 'Continuous feeling of urine', 'passage_of_gases': 'Passing gas', 'internal_itching': 'Internal itching', 'toxic_look_(typhos)': 'Toxic look (typhos)', 'depression': 'Depression', 'irritability': 'Irritability', 'muscle_pain': 'Muscle pain', 'altered_sensorium': 'Altered sensorium', 'red_spots_over_body': 'Red spots over body', 'belly_pain': 'Belly pain', 'abnormal_menstruation': 'Abnormal menstruation', 'dischromic_patches': 'Discolored patches', 'watering_from_eyes': 'Watering from eyes', 'increased_appetite': 'Increased appetite', 'polyuria': 'Excessive urination', 'family_history': 'Family history', 'mucoid_sputum': 'Thick phlegm', 'rusty_sputum': 'Brownish phlegm', 'lack_of_concentration': 'Lack of concentration', 'visual_disturbances': 'Visual disturbances', 'receiving_blood_transfusion': 'Receiving blood transfusion', 'receiving_unsterile_injections': 'Receiving unsterile injections', 'coma': 'Coma', 'stomach_bleeding': 'Stomach bleeding', 'distention_of_abdomen': 'Abdominal bloating', 'history_of_alcohol_consumption': 'History of alcohol consumption', 'blood_in_sputum': 'Blood in sputum', 'prominent_veins_on_calf': 'Prominent veins on calf', 'palpitations': 'Palpitations', 'painful_walking': 'Painful walking', 'pus_filled_pimples': 'Pus-filled pimples', 'blackheads': 'Blackheads', 'scurring': 'Scarring', 'skin_peeling': 'Skin peeling', 'silver_like_dusting': 'Silver-like dusting', 'small_dents_in_nails': 'Small dents in nails', 'inflammatory_nails': 'Swollen nails', 'blister': 'Blisters', 'red_sore_around_nose': 'Red sores around nose', 'yellow_crust_ooze': 'Yellow crust oozing', 'chest pain': 'Chest pain', 'prognosis': 'Outlook or expected outcome'}\n"
          ]
        }
      ],
      "source": [
        "old_words = [\n",
        "    'itching', 'skin_rash', 'nodal_skin_eruptions', 'continuous_sneezing', 'shivering',\n",
        "    'chills', 'joint_pain', 'stomach_pain', 'acidity', 'ulcers_on_tongue', 'muscle_wasting',\n",
        "    'vomiting', 'burning_micturition', 'spotting_urination', 'fatigue', 'weight_gain', 'anxiety',\n",
        "    'cold_hands_and_feets', 'mood_swings', 'weight_loss', 'restlessness', 'lethargy',\n",
        "    'patches_in_throat', 'irregular_sugar_level', 'cough', 'high_fever', 'sunken_eyes',\n",
        "    'breathlessness', 'sweating', 'dehydration', 'indigestion', 'headache', 'yellowish_skin',\n",
        "    'dark_urine', 'nausea', 'loss_of_appetite', 'pain_behind_the_eyes', 'back_pain',\n",
        "    'constipation', 'abdominal_pain', 'diarrhoea', 'mild_fever', 'yellow_urine', 'yellowing_of_eyes',\n",
        "    'acute_liver_failure', 'fluid_overload', 'swelling_of_stomach', 'swelled_lymph_nodes', 'malaise',\n",
        "    'blurred_and_distorted_vision', 'phlegm', 'throat_irritation', 'redness_of_eyes', 'sinus_pressure',\n",
        "    'runny_nose', 'congestion', 'chest_pain', 'weakness_in_limbs', 'fast_heart_rate',\n",
        "    'pain_during_bowel_movements', 'pain_in_anal_region', 'bloody_stool', 'irritation_in_anus',\n",
        "    'neck_pain', 'dizziness', 'cramps', 'bruising', 'obesity', 'swollen_legs', 'swollen_blood_vessels',\n",
        "    'puffy_face_and_eyes', 'enlarged_thyroid', 'brittle_nails', 'swollen_extremeties',\n",
        "    'excessive_hunger', 'extra_marital_contacts', 'drying_and_tingling_lips', 'slurred_speech',\n",
        "    'knee_pain', 'hip_joint_pain', 'muscle_weakness', 'stiff_neck', 'swelling_joints',\n",
        "    'movement_stiffness', 'spinning_movements', 'loss_of_balance', 'unsteadiness',\n",
        "    'weakness_of_one_body_side', 'loss_of_smell', 'bladder_discomfort', 'foul_smell_of_urine',\n",
        "    'continuous_feel_of_urine', 'passage_of_gases', 'internal_itching', 'toxic_look_(typhos)',\n",
        "    'depression', 'irritability', 'muscle_pain', 'altered_sensorium', 'red_spots_over_body',\n",
        "    'belly_pain', 'abnormal_menstruation', 'dischromic_patches', 'watering_from_eyes',\n",
        "    'increased_appetite', 'polyuria', 'family_history', 'mucoid_sputum', 'rusty_sputum',\n",
        "    'lack_of_concentration', 'visual_disturbances', 'receiving_blood_transfusion',\n",
        "    'receiving_unsterile_injections', 'coma', 'stomach_bleeding', 'distention_of_abdomen',\n",
        "    'history_of_alcohol_consumption', 'blood_in_sputum', 'prominent_veins_on_calf', 'palpitations',\n",
        "    'painful_walking', 'pus_filled_pimples', 'blackheads', 'scurring', 'skin_peeling',\n",
        "    'silver_like_dusting', 'small_dents_in_nails', 'inflammatory_nails', 'blister',\n",
        "    'red_sore_around_nose', 'yellow_crust_ooze', 'chest pain', 'prognosis'\n",
        "]\n",
        "\n",
        "new_words = [\n",
        "    'Itching', 'Skin rash', 'Bumps on skin', 'Continuous sneezing', 'Shivering', 'Chills',\n",
        "    'Joint pain', 'Stomach pain', 'Acidity', 'Ulcers on tongue', 'Muscle wasting', 'Vomiting',\n",
        "    'Painful urination', 'Spotting during urination', 'Fatigue', 'Weight gain', 'Anxiety',\n",
        "    'Cold hands and feet', 'Mood swings', 'Weight loss', 'Restlessness', 'Lethargy',\n",
        "    'Patches in throat', 'Irregular sugar level', 'Cough', 'High fever', 'Sunken eyes',\n",
        "    'Breathlessness', 'Sweating', 'Dehydration', 'Indigestion', 'Headache', 'Yellowish skin',\n",
        "    'Dark urine', 'Nausea', 'Loss of appetite', 'Pain behind the eyes', 'Back pain', 'Constipation',\n",
        "    'Abdominal pain', 'Diarrhoea', 'Mild fever', 'Yellow urine', 'Yellowing of eyes',\n",
        "    'Sudden liver failure', 'Fluid overload', 'Swelling of stomach', 'Swollen lymph nodes', 'Malaise',\n",
        "    'Blurred and distorted vision', 'Phlegm', 'Throat irritation', 'Redness of eyes', 'Sinus pressure',\n",
        "    'Runny nose', 'Congestion', 'Chest pain', 'Weakness in limbs', 'Fast heart rate',\n",
        "    'Pain during bowel movements', 'Pain in anal region', 'Bloody stool', 'Irritation in anus',\n",
        "    'Neck pain', 'Dizziness', 'Cramps', 'Bruising', 'Obesity', 'Swollen legs', 'Swollen blood vessels',\n",
        "    'Puffy face and eyes', 'Enlarged thyroid', 'Brittle nails', 'Swollen extremities',\n",
        "    'Excessive hunger', 'Extra-marital contacts', 'Drying and tingling lips', 'Slurred speech',\n",
        "    'Knee pain', 'Hip joint pain', 'Muscle weakness', 'Stiff neck', 'Swelling joints',\n",
        "    'Movement stiffness', 'Spinning movements', 'Loss of balance', 'Unsteadiness',\n",
        "    'Weakness of one body side', 'Loss of smell', 'Bladder discomfort', 'Foul smell of urine',\n",
        "    'Continuous feeling of urine', 'Passing gas', 'Internal itching', 'Toxic look (typhos)',\n",
        "    'Depression', 'Irritability', 'Muscle pain', 'Altered sensorium', 'Red spots over body',\n",
        "    'Belly pain', 'Abnormal menstruation', 'Discolored patches', 'Watering from eyes',\n",
        "    'Increased appetite', 'Excessive urination', 'Family history', 'Thick phlegm', 'Brownish phlegm',\n",
        "    'Lack of concentration', 'Visual disturbances', 'Receiving blood transfusion',\n",
        "    'Receiving unsterile injections', 'Coma', 'Stomach bleeding', 'Abdominal bloating',\n",
        "    'History of alcohol consumption', 'Blood in sputum', 'Prominent veins on calf', 'Palpitations',\n",
        "    'Painful walking', 'Pus-filled pimples', 'Blackheads', 'Scarring', 'Skin peeling',\n",
        "    'Silver-like dusting', 'Small dents in nails', 'Swollen nails', 'Blisters',\n",
        "    'Red sores around nose', 'Yellow crust oozing', 'Chest pain', 'Outlook or expected outcome'\n",
        "]\n",
        "\n",
        "symptoms = dict(zip(old_words, new_words))\n",
        "print(symptoms)"
      ]
    },
    {
      "cell_type": "code",
      "source": [
        "import pandas as pd\n",
        "from sklearn.model_selection import train_test_split\n",
        "from sklearn.preprocessing import MultiLabelBinarizer\n",
        "from tensorflow.keras.models import Sequential\n",
        "from tensorflow.keras.layers import Dense\n",
        "import pickle\n",
        "\n",
        "\n",
        "data = pd.read_csv(\"/content/Training.csv\")\n",
        "\n",
        "\n",
        "X = data.drop(columns=['prognosis'])\n",
        "y = data['prognosis']\n",
        "\n",
        "\n",
        "label_binarizer = MultiLabelBinarizer()\n",
        "y_encoded = label_binarizer.fit_transform(y.str.split(','))\n",
        "\n",
        "\n",
        "with open(\"label_binarizer.pkl\", \"wb\") as f:\n",
        "    pickle.dump({'classes': label_binarizer.classes_}, f)\n",
        "\n",
        "\n",
        "X_train, X_test, y_train, y_test = train_test_split(X, y_encoded, test_size=0.2, random_state=42)\n",
        "\n",
        "\n",
        "model = Sequential([\n",
        "    Dense(128, activation='relu', input_shape=(X_train.shape[1],)),\n",
        "    Dense(64, activation='relu'),\n",
        "    Dense(len(label_binarizer.classes_), activation='sigmoid')\n",
        "])\n",
        "\n",
        "\n",
        "model.compile(optimizer='adam', loss='binary_crossentropy', metrics=['accuracy'])\n",
        "\n",
        "\n",
        "history = model.fit(X_train, y_train, epochs=10, batch_size=32, validation_split=0.2)\n",
        "\n",
        "\n",
        "test_loss, test_accuracy = model.evaluate(X_test, y_test)\n",
        "print(f\"Test Accuracy: {test_accuracy}\")\n",
        "\n",
        "\n",
        "model.save(\"your_trained_model_multi_label.h5\")\n",
        "\n",
        "\n",
        "predictions = model.predict(X_test)\n",
        "\n"
      ],
      "metadata": {
        "colab": {
          "base_uri": "https://localhost:8080/"
        },
        "id": "Snx2dfNEwasE",
        "outputId": "0de724fb-adfe-4b52-c5f6-f5dcee90ae73"
      },
      "execution_count": null,
      "outputs": [
        {
          "output_type": "stream",
          "name": "stdout",
          "text": [
            "Epoch 1/10\n",
            "39/39 [==============================] - 1s 9ms/step - loss: 0.4709 - accuracy: 0.1156 - val_loss: 0.2418 - val_accuracy: 0.1613\n",
            "Epoch 2/10\n",
            "39/39 [==============================] - 0s 4ms/step - loss: 0.1761 - accuracy: 0.6871 - val_loss: 0.1230 - val_accuracy: 1.0000\n",
            "Epoch 3/10\n",
            "39/39 [==============================] - 0s 4ms/step - loss: 0.0824 - accuracy: 1.0000 - val_loss: 0.0498 - val_accuracy: 1.0000\n",
            "Epoch 4/10\n",
            "39/39 [==============================] - 0s 4ms/step - loss: 0.0318 - accuracy: 1.0000 - val_loss: 0.0199 - val_accuracy: 1.0000\n",
            "Epoch 5/10\n",
            "39/39 [==============================] - 0s 4ms/step - loss: 0.0138 - accuracy: 1.0000 - val_loss: 0.0098 - val_accuracy: 1.0000\n",
            "Epoch 6/10\n",
            "39/39 [==============================] - 0s 4ms/step - loss: 0.0073 - accuracy: 1.0000 - val_loss: 0.0057 - val_accuracy: 1.0000\n",
            "Epoch 7/10\n",
            "39/39 [==============================] - 0s 4ms/step - loss: 0.0045 - accuracy: 1.0000 - val_loss: 0.0037 - val_accuracy: 1.0000\n",
            "Epoch 8/10\n",
            "39/39 [==============================] - 0s 4ms/step - loss: 0.0030 - accuracy: 1.0000 - val_loss: 0.0026 - val_accuracy: 1.0000\n",
            "Epoch 9/10\n",
            "39/39 [==============================] - 0s 4ms/step - loss: 0.0022 - accuracy: 1.0000 - val_loss: 0.0019 - val_accuracy: 1.0000\n",
            "Epoch 10/10\n",
            "39/39 [==============================] - 0s 4ms/step - loss: 0.0016 - accuracy: 1.0000 - val_loss: 0.0015 - val_accuracy: 1.0000\n",
            "13/13 [==============================] - 0s 2ms/step - loss: 0.0014 - accuracy: 1.0000\n",
            "Test Accuracy: 1.0\n"
          ]
        },
        {
          "output_type": "stream",
          "name": "stderr",
          "text": [
            "/usr/local/lib/python3.10/dist-packages/keras/src/engine/training.py:3103: UserWarning: You are saving your model as an HDF5 file via `model.save()`. This file format is considered legacy. We recommend using instead the native Keras format, e.g. `model.save('my_model.keras')`.\n",
            "  saving_api.save_model(\n"
          ]
        },
        {
          "output_type": "stream",
          "name": "stdout",
          "text": [
            "13/13 [==============================] - 0s 2ms/step\n"
          ]
        }
      ]
    },
    {
      "cell_type": "code",
      "source": [
        "import pandas as pd\n",
        "from sklearn.preprocessing import MultiLabelBinarizer\n",
        "from tensorflow.keras.models import load_model\n",
        "\n",
        "\n",
        "model = load_model(\"/content/your_trained_model_multi_label.h5\")\n",
        "\n",
        "\n",
        "label_binarizer = MultiLabelBinarizer()\n",
        "label_binarizer.classes_ = pd.read_pickle(\"label_binarizer.pkl\")['classes']\n",
        "\n",
        "def predict_disease(symptoms_list, threshold=0.1):\n",
        "\n",
        "    symptoms_df = pd.DataFrame(0, index=[0], columns=X.columns)\n",
        "\n",
        "    symptoms_df[symptoms_list] = 1\n",
        "\n",
        "    prediction = model.predict(symptoms_df)\n",
        "\n",
        "    binary_predictions = (prediction > threshold).astype(int)\n",
        "\n",
        "    decoded_predictions = label_binarizer.inverse_transform(binary_predictions)\n",
        "\n",
        "    probabilities = [prediction[0][label_binarizer.classes_ == disease][0] * 100 for disease in decoded_predictions[0]]\n",
        "\n",
        "    decoded_predictions = [', '.join(diseases) for diseases in decoded_predictions]\n",
        "    return decoded_predictions, probabilities\n",
        "\n",
        "\n"
      ],
      "metadata": {
        "id": "Ch8vLA9AwfJy"
      },
      "execution_count": null,
      "outputs": []
    },
    {
      "cell_type": "markdown",
      "source": [
        "**Relevant questions**"
      ],
      "metadata": {
        "id": "y856VBWdGDro"
      }
    },
    {
      "cell_type": "code",
      "source": [
        "def get_symptoms_specific_to_predicted_diseases(predicted_output, threshold=0.2):\n",
        "\n",
        "    if not predicted_output:\n",
        "        print(\"No diseases were predicted.\")\n",
        "        return []\n",
        "\n",
        "    unique_symptoms = set()\n",
        "\n",
        "    for diseases_string in predicted_output:\n",
        "        diseases = [d.strip() for d in diseases_string.split(',')]\n",
        "        for disease in diseases:\n",
        "\n",
        "            if disease not in label_binarizer.classes_:\n",
        "                print(f\"Disease '{disease}' is not in the label binarizer classes.\")\n",
        "                continue\n",
        "\n",
        "            symptoms_df = pd.DataFrame(0, index=[0], columns=X.columns)\n",
        "\n",
        "            disease_columns = X.columns[y.loc[y == disease].index[0]]\n",
        "            symptoms_df[disease_columns] = 1\n",
        "\n",
        "            prediction = model.predict(symptoms_df)\n",
        "\n",
        "            binary_predictions = (prediction > threshold).astype(int)\n",
        "            decoded_predictions = label_binarizer.inverse_transform(binary_predictions)\n",
        "            probabilities = [prediction[0][label_binarizer.classes_ == disease][0] * 100 for disease in decoded_predictions[0]]\n",
        "            disease_profile = X.loc[y == disease]\n",
        "            disease_symptoms = set(disease_profile.columns[disease_profile.iloc[0].values == 1])\n",
        "            if len(predicted_output) > 1:\n",
        "                for other_disease_string in predicted_output:\n",
        "                    if other_disease_string != diseases_string:\n",
        "                        other_diseases = [d.strip() for d in other_disease_string.split(',')]\n",
        "                        for other_disease in other_diseases:\n",
        "                            if other_disease in label_binarizer.classes_:\n",
        "                                other_disease_profile = X.loc[y == other_disease]\n",
        "                                other_disease_symptoms = set(other_disease_profile.columns[other_disease_profile.iloc[0].values == 1])\n",
        "                                disease_symptoms.difference_update(other_disease_symptoms)\n",
        "\n",
        "            unique_symptoms.update(disease_symptoms)\n",
        "\n",
        "    return list(unique_symptoms)\n"
      ],
      "metadata": {
        "id": "mrzN5k8swspW"
      },
      "execution_count": null,
      "outputs": []
    },
    {
      "cell_type": "markdown",
      "source": [
        "**Model Lang to User Lang**"
      ],
      "metadata": {
        "id": "I9zX83miGP92"
      }
    },
    {
      "cell_type": "code",
      "source": [
        "def ask_user_about_symptoms(symptoms_mapping, symptoms_specific):\n",
        "    confirmed_symptoms = []\n",
        "    for symptom in symptoms_specific:\n",
        "        if symptom in symptoms_mapping:\n",
        "            response = input(f\"Do you have '{symptoms_mapping[symptom]}' symptom? (yes/no): \").lower()\n",
        "            if response == \"yes\":\n",
        "                confirmed_symptoms.append(symptom)\n",
        "    return confirmed_symptoms\n",
        "\n",
        "\n",
        "symptoms_mapping = dict(zip(old_words, new_words))\n",
        "\n"
      ],
      "metadata": {
        "id": "IfI_gOFLw18n"
      },
      "execution_count": null,
      "outputs": []
    },
    {
      "cell_type": "code",
      "source": [
        "confirm_symptoms = set()\n",
        "user_input = input(\"Enter symptoms separated by commas: \")\n",
        "\n",
        "symptoms_list = user_input.split(\",\")\n",
        "\n",
        "confirm_symptoms.update(symptoms_list)\n",
        "\n",
        "try:\n",
        "    predicted_output, probabilities = predict_disease(list(confirm_symptoms), threshold=0.1)\n",
        "    print(\"Predicted Diseases:\", predicted_output)\n",
        "    print(\"Probabilities (%):\", probabilities)\n",
        "\n",
        "    symptoms_specific = get_symptoms_specific_to_predicted_diseases(predicted_output)\n",
        "\n",
        "    symptoms_mapping = dict(zip(old_words, new_words))\n",
        "\n",
        "    confirmed_symptoms = ask_user_about_symptoms(symptoms_mapping, symptoms_specific)\n",
        "    print(\"Confirmed symptoms:\", confirmed_symptoms)\n",
        "    predict_disease_Home = predict_disease(list(confirmed_symptoms), threshold=0.3)\n",
        "    print(predict_disease_Home)\n",
        "\n",
        "    cleaned_disease_name = predict_disease_Home[0][0].strip(\"[]''\")\n",
        "    print(cleaned_disease_name)\n",
        "\n",
        "    import pandas as pd\n",
        "    import random\n",
        "\n",
        "    df = pd.read_excel(\"/content/Home remedies.xlsx\")\n",
        "\n",
        "    predicted_disease = cleaned_disease_name\n",
        "    matched_row = df[df['prognosis'] == predicted_disease]\n",
        "\n",
        "    home_remedies = []\n",
        "    for col in range(1, 6):\n",
        "        remedy = matched_row[f'Home Remedies_{col}'].values[0]\n",
        "        if pd.notnull(remedy):\n",
        "            home_remedies.append(remedy)\n",
        "\n",
        "    if home_remedies:\n",
        "        selected_home_remedy = random.choice(home_remedies)\n",
        "        print(\"home remedy:\", cleaned_disease_name)\n",
        "        chunks = [selected_home_remedy[i:i+100] for i in range(0, len(selected_home_remedy), 100)]\n",
        "\n",
        "        print(\"Selected home remedy:\")\n",
        "        for chunk in chunks:\n",
        "            print(chunk)\n",
        "    else:\n",
        "        print(\"No home remedies available for this disease.\")\n",
        "\n",
        "except Exception as e:\n",
        "    print(\"An error occurred:\", e)\n"
      ],
      "metadata": {
        "id": "IG_TJ3Or6AJw"
      },
      "execution_count": null,
      "outputs": []
    }
  ]
}